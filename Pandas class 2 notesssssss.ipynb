{
 "cells": [
  {
   "cell_type": "code",
   "execution_count": 1,
   "id": "da009d26",
   "metadata": {},
   "outputs": [],
   "source": [
    "import pandas as pd \n",
    "import numpy as np"
   ]
  },
  {
   "cell_type": "code",
   "execution_count": 2,
   "id": "5585dc28",
   "metadata": {},
   "outputs": [],
   "source": [
    "dict = {'A':[12,34 , np.nan] , 'B':[45,65,78] , 'C':[np.nan , 89 , np.nan]} "
   ]
  },
  {
   "cell_type": "code",
   "execution_count": 3,
   "id": "37a753fc",
   "metadata": {},
   "outputs": [
    {
     "data": {
      "text/html": [
       "<div>\n",
       "<style scoped>\n",
       "    .dataframe tbody tr th:only-of-type {\n",
       "        vertical-align: middle;\n",
       "    }\n",
       "\n",
       "    .dataframe tbody tr th {\n",
       "        vertical-align: top;\n",
       "    }\n",
       "\n",
       "    .dataframe thead th {\n",
       "        text-align: right;\n",
       "    }\n",
       "</style>\n",
       "<table border=\"1\" class=\"dataframe\">\n",
       "  <thead>\n",
       "    <tr style=\"text-align: right;\">\n",
       "      <th></th>\n",
       "      <th>A</th>\n",
       "      <th>B</th>\n",
       "      <th>C</th>\n",
       "    </tr>\n",
       "  </thead>\n",
       "  <tbody>\n",
       "    <tr>\n",
       "      <th>0</th>\n",
       "      <td>12.0</td>\n",
       "      <td>45</td>\n",
       "      <td>NaN</td>\n",
       "    </tr>\n",
       "    <tr>\n",
       "      <th>1</th>\n",
       "      <td>34.0</td>\n",
       "      <td>65</td>\n",
       "      <td>89.0</td>\n",
       "    </tr>\n",
       "    <tr>\n",
       "      <th>2</th>\n",
       "      <td>NaN</td>\n",
       "      <td>78</td>\n",
       "      <td>NaN</td>\n",
       "    </tr>\n",
       "  </tbody>\n",
       "</table>\n",
       "</div>"
      ],
      "text/plain": [
       "      A   B     C\n",
       "0  12.0  45   NaN\n",
       "1  34.0  65  89.0\n",
       "2   NaN  78   NaN"
      ]
     },
     "execution_count": 3,
     "metadata": {},
     "output_type": "execute_result"
    }
   ],
   "source": [
    "df = pd.DataFrame(dict)\n",
    "\n",
    "df"
   ]
  },
  {
   "cell_type": "code",
   "execution_count": 5,
   "id": "9fa98508",
   "metadata": {},
   "outputs": [
    {
     "name": "stdout",
     "output_type": "stream",
     "text": [
      "\n",
      " filling values with a computed mean(mean of column 'b' here)\n",
      "------------------------------------------------------------\n",
      "           A   B          C\n",
      "0  12.000000  45  62.666667\n",
      "1  34.000000  65  89.000000\n",
      "2  62.666667  78  62.666667\n"
     ]
    }
   ],
   "source": [
    "print(\"\\n filling values with a computed mean(mean of column 'b' here)\\n\" , '-'*60 ,sep='')\n",
    "df.fillna(value=df['B'].mean() ,inplace = True ) #inplace = True used for saved changes\n",
    "print(df)                                        #here the avg of b is used to fill nan. values"
   ]
  },
  {
   "cell_type": "code",
   "execution_count": 6,
   "id": "0a3f5c0d",
   "metadata": {},
   "outputs": [
    {
     "data": {
      "text/html": [
       "<div>\n",
       "<style scoped>\n",
       "    .dataframe tbody tr th:only-of-type {\n",
       "        vertical-align: middle;\n",
       "    }\n",
       "\n",
       "    .dataframe tbody tr th {\n",
       "        vertical-align: top;\n",
       "    }\n",
       "\n",
       "    .dataframe thead th {\n",
       "        text-align: right;\n",
       "    }\n",
       "</style>\n",
       "<table border=\"1\" class=\"dataframe\">\n",
       "  <thead>\n",
       "    <tr style=\"text-align: right;\">\n",
       "      <th></th>\n",
       "      <th>Company</th>\n",
       "      <th>Person</th>\n",
       "      <th>Sales</th>\n",
       "      <th>Profit</th>\n",
       "    </tr>\n",
       "  </thead>\n",
       "  <tbody>\n",
       "    <tr>\n",
       "      <th>0</th>\n",
       "      <td>GOOG</td>\n",
       "      <td>Sam</td>\n",
       "      <td>200</td>\n",
       "      <td>34</td>\n",
       "    </tr>\n",
       "    <tr>\n",
       "      <th>1</th>\n",
       "      <td>GOOG</td>\n",
       "      <td>Charlie</td>\n",
       "      <td>450</td>\n",
       "      <td>23</td>\n",
       "    </tr>\n",
       "    <tr>\n",
       "      <th>2</th>\n",
       "      <td>MSFT</td>\n",
       "      <td>Amy</td>\n",
       "      <td>678</td>\n",
       "      <td>56</td>\n",
       "    </tr>\n",
       "    <tr>\n",
       "      <th>3</th>\n",
       "      <td>MSFT</td>\n",
       "      <td>Vanesa</td>\n",
       "      <td>432</td>\n",
       "      <td>73</td>\n",
       "    </tr>\n",
       "    <tr>\n",
       "      <th>4</th>\n",
       "      <td>FB</td>\n",
       "      <td>Carl</td>\n",
       "      <td>156</td>\n",
       "      <td>88</td>\n",
       "    </tr>\n",
       "    <tr>\n",
       "      <th>5</th>\n",
       "      <td>FB</td>\n",
       "      <td>Sarah</td>\n",
       "      <td>789</td>\n",
       "      <td>62</td>\n",
       "    </tr>\n",
       "  </tbody>\n",
       "</table>\n",
       "</div>"
      ],
      "text/plain": [
       "  Company   Person  Sales  Profit\n",
       "0    GOOG      Sam    200      34\n",
       "1    GOOG  Charlie    450      23\n",
       "2    MSFT      Amy    678      56\n",
       "3    MSFT   Vanesa    432      73\n",
       "4      FB     Carl    156      88\n",
       "5      FB    Sarah    789      62"
      ]
     },
     "execution_count": 6,
     "metadata": {},
     "output_type": "execute_result"
    }
   ],
   "source": [
    "#create dataframe\n",
    "data = {'Company':['GOOG' , 'GOOG' , 'MSFT' , 'MSFT' , 'FB' , 'FB'],\n",
    "       'Person':['Sam' , 'Charlie' , 'Amy' , 'Vanesa' , 'Carl' , 'Sarah'],\n",
    "       'Sales':[200,450,678,432,156,789],\n",
    "       'Profit':[34,23,56,73,88,62]}\n",
    "\n",
    "df = pd.DataFrame(data)\n",
    "df"
   ]
  },
  {
   "cell_type": "markdown",
   "id": "12a3d275",
   "metadata": {},
   "source": [
    "# Groupby:"
   ]
  },
  {
   "cell_type": "code",
   "execution_count": 8,
   "id": "ae540900",
   "metadata": {},
   "outputs": [
    {
     "name": "stdout",
     "output_type": "stream",
     "text": [
      "\n",
      "grouping by 'company' column  and lisitng mean sales\n",
      " --------------------------------------------------\n",
      "  Company  Sales\n",
      "0      FB  472.5\n",
      "1    GOOG  325.0\n",
      "2    MSFT  555.0\n"
     ]
    }
   ],
   "source": [
    "avg_sales = df.groupby('Company' , as_index = False)['Sales'].mean() #as index = False is used to show index.\n",
    "\n",
    "print(\"\\ngrouping by 'company' column  and lisitng mean sales\\n\" , '-'*50)\n",
    "print(avg_sales)"
   ]
  },
  {
   "cell_type": "code",
   "execution_count": 11,
   "id": "1a18a95a",
   "metadata": {},
   "outputs": [
    {
     "name": "stdout",
     "output_type": "stream",
     "text": [
      "\n",
      " groupping by the comapny and listing sum of sales and profit\n",
      " -------------------------------------------------------\n",
      "  Company  Sales  Profit\n",
      "0      FB    945     150\n",
      "1    GOOG    650      57\n",
      "2    MSFT   1110     129\n"
     ]
    }
   ],
   "source": [
    "total_sales = df.groupby('Company',as_index = False )[['Sales' , 'Profit']].sum()\n",
    "print(\"\\n groupping by the comapny and listing sum of sales and profit\\n\" , '-'*55)\n",
    "\n",
    "print(total_sales)"
   ]
  },
  {
   "cell_type": "code",
   "execution_count": 12,
   "id": "7acf07e1",
   "metadata": {},
   "outputs": [
    {
     "name": "stdout",
     "output_type": "stream",
     "text": [
      "\n",
      "groupping by 'comapny' and both sum and avg sales\n",
      " --------------------------------------------------\n",
      "         Sales       Profit     \n",
      "          mean   sum   mean  sum\n",
      "Company                         \n",
      "FB       472.5   945   75.0  150\n",
      "GOOG     325.0   650   28.5   57\n",
      "MSFT     555.0  1110   64.5  129\n"
     ]
    }
   ],
   "source": [
    "sales_stats = df.groupby('Company')[['Sales' , 'Profit']].agg(['mean' , 'sum'])\n",
    "\n",
    "print(\"\\ngroupping by 'comapny' and both sum and avg sales\\n\" , '-'*50)\n",
    "print(sales_stats)          #agg stands for aggregate"
   ]
  },
  {
   "cell_type": "code",
   "execution_count": 13,
   "id": "dd9ce8d2",
   "metadata": {},
   "outputs": [
    {
     "data": {
      "text/plain": [
       "Company   \n",
       "FB       5    789\n",
       "GOOG     1    450\n",
       "MSFT     2    678\n",
       "Name: Sales, dtype: int64"
      ]
     },
     "execution_count": 13,
     "metadata": {},
     "output_type": "execute_result"
    }
   ],
   "source": [
    "#finding the largest value in each group.\n",
    "#this produce sales and corresponding index    \n",
    "df.groupby('Company')['Sales'].nlargest(1) # (1) is top(1)"
   ]
  },
  {
   "cell_type": "code",
   "execution_count": 14,
   "id": "a2e50cbf",
   "metadata": {},
   "outputs": [],
   "source": [
    "#similarly we can check smallest by nsmallest(1)"
   ]
  },
  {
   "cell_type": "raw",
   "id": "8bb7c853",
   "metadata": {},
   "source": [
    "let's learn about = 1.concat\n",
    "                    2.merge\n",
    "                    3.join"
   ]
  },
  {
   "cell_type": "code",
   "execution_count": 15,
   "id": "504c5535",
   "metadata": {},
   "outputs": [
    {
     "name": "stdout",
     "output_type": "stream",
     "text": [
      "       mat  eng  sci  chem\n",
      "Ravi    28   34   45    46\n",
      "manan   34   55   67    77\n",
      "ram     78   66   77    23\n",
      "imam    66   34   44    89\n"
     ]
    }
   ],
   "source": [
    "#create dataframe \n",
    "class_a = pd.DataFrame({'mat': [28,34,78,66],\n",
    "                       'eng':[34,55,66,34,],\n",
    "                       'sci': [45,67,77,44,],\n",
    "                       'chem':[46,77,23,89]},\n",
    "                      index = ['Ravi' , 'manan' , 'ram' , 'imam'])\n",
    "\n",
    "print(class_a)"
   ]
  },
  {
   "cell_type": "code",
   "execution_count": 16,
   "id": "18203c7c",
   "metadata": {},
   "outputs": [
    {
     "name": "stdout",
     "output_type": "stream",
     "text": [
      "        mat  eng  sci  chem\n",
      "Ram      26   34   45    49\n",
      "shan     34   75   37    77\n",
      "mridul   78   56   77    23\n",
      "zimam    36   34   34    89\n"
     ]
    }
   ],
   "source": [
    "class_b = pd.DataFrame({'mat': [26,34,78,36],\n",
    "                       'eng':[34,75,56,34,],\n",
    "                       'sci': [45,37,77,34,],\n",
    "                       'chem':[49,77,23,89]},\n",
    "                      index = ['Ram' , 'shan' , 'mridul' , 'zimam'])\n",
    "print(class_b)"
   ]
  },
  {
   "cell_type": "code",
   "execution_count": 17,
   "id": "670232ae",
   "metadata": {},
   "outputs": [],
   "source": [
    "class_c = pd.DataFrame({'mat': [26,74,78,96],\n",
    "                       'eng':[32,75,66,34,],\n",
    "                       'sci': [45,35,77,39,],\n",
    "                       'chem':[46,77,23,89]},\n",
    "                      index = ['tarun' , 'tashan' , 'nanu' , 'miya'])"
   ]
  },
  {
   "cell_type": "code",
   "execution_count": 18,
   "id": "5ef4c84b",
   "metadata": {},
   "outputs": [
    {
     "name": "stdout",
     "output_type": "stream",
     "text": [
      "        mat  eng  sci  chem\n",
      "tarun    26   32   45    46\n",
      "tashan   74   75   35    77\n",
      "nanu     78   66   77    23\n",
      "miya     96   34   39    89\n"
     ]
    }
   ],
   "source": [
    "print(class_c)"
   ]
  },
  {
   "cell_type": "code",
   "execution_count": 19,
   "id": "a77fa5a8",
   "metadata": {},
   "outputs": [
    {
     "name": "stdout",
     "output_type": "stream",
     "text": [
      "\n",
      "after concatenation along row\n",
      "--------------------------------------------------\n",
      "        mat  eng  sci  chem\n",
      "Ravi     28   34   45    46\n",
      "manan    34   55   67    77\n",
      "ram      78   66   77    23\n",
      "imam     66   34   44    89\n",
      "Ram      26   34   45    49\n",
      "shan     34   75   37    77\n",
      "mridul   78   56   77    23\n",
      "zimam    36   34   34    89\n",
      "tarun    26   32   45    46\n",
      "tashan   74   75   35    77\n",
      "nanu     78   66   77    23\n",
      "miya     96   34   39    89\n"
     ]
    }
   ],
   "source": [
    "#concatenation\n",
    "all_student_marks = pd.concat([class_a , class_b, class_c] , axis = 0)\n",
    "                              \n",
    "print(\"\\nafter concatenation along row\\n\" , '-'*50 , sep='')\n",
    "print(all_student_marks)                              \n",
    "                              "
   ]
  },
  {
   "cell_type": "code",
   "execution_count": 20,
   "id": "47dfb2d4",
   "metadata": {},
   "outputs": [
    {
     "name": "stdout",
     "output_type": "stream",
     "text": [
      "\n",
      "after concatenation along column\n",
      "--------------------------------------------------\n",
      "         mat   eng   sci  chem   mat   eng   sci  chem   mat   eng   sci  chem\n",
      "Ravi    28.0  34.0  45.0  46.0   NaN   NaN   NaN   NaN   NaN   NaN   NaN   NaN\n",
      "manan   34.0  55.0  67.0  77.0   NaN   NaN   NaN   NaN   NaN   NaN   NaN   NaN\n",
      "ram     78.0  66.0  77.0  23.0   NaN   NaN   NaN   NaN   NaN   NaN   NaN   NaN\n",
      "imam    66.0  34.0  44.0  89.0   NaN   NaN   NaN   NaN   NaN   NaN   NaN   NaN\n",
      "Ram      NaN   NaN   NaN   NaN  26.0  34.0  45.0  49.0   NaN   NaN   NaN   NaN\n",
      "shan     NaN   NaN   NaN   NaN  34.0  75.0  37.0  77.0   NaN   NaN   NaN   NaN\n",
      "mridul   NaN   NaN   NaN   NaN  78.0  56.0  77.0  23.0   NaN   NaN   NaN   NaN\n",
      "zimam    NaN   NaN   NaN   NaN  36.0  34.0  34.0  89.0   NaN   NaN   NaN   NaN\n",
      "tarun    NaN   NaN   NaN   NaN   NaN   NaN   NaN   NaN  26.0  32.0  45.0  46.0\n",
      "tashan   NaN   NaN   NaN   NaN   NaN   NaN   NaN   NaN  74.0  75.0  35.0  77.0\n",
      "nanu     NaN   NaN   NaN   NaN   NaN   NaN   NaN   NaN  78.0  66.0  77.0  23.0\n",
      "miya     NaN   NaN   NaN   NaN   NaN   NaN   NaN   NaN  96.0  34.0  39.0  89.0\n"
     ]
    }
   ],
   "source": [
    "all_student_marks = pd.concat([class_a , class_b, class_c] , axis = 1)\n",
    "                              \n",
    "print(\"\\nafter concatenation along column\\n\" , '-'*50 , sep='')\n",
    "print(all_student_marks)                              \n",
    "                              "
   ]
  },
  {
   "cell_type": "markdown",
   "id": "b1b7b994",
   "metadata": {},
   "source": [
    "# MERGE"
   ]
  },
  {
   "cell_type": "code",
   "execution_count": 21,
   "id": "8262e168",
   "metadata": {},
   "outputs": [],
   "source": [
    "#in concet we can use two or more than two dataframe "
   ]
  },
  {
   "cell_type": "code",
   "execution_count": 22,
   "id": "eda17eef",
   "metadata": {},
   "outputs": [
    {
     "name": "stdout",
     "output_type": "stream",
     "text": [
      "Player Id and Name \n",
      " ================\n"
     ]
    },
    {
     "data": {
      "text/html": [
       "<div>\n",
       "<style scoped>\n",
       "    .dataframe tbody tr th:only-of-type {\n",
       "        vertical-align: middle;\n",
       "    }\n",
       "\n",
       "    .dataframe tbody tr th {\n",
       "        vertical-align: top;\n",
       "    }\n",
       "\n",
       "    .dataframe thead th {\n",
       "        text-align: right;\n",
       "    }\n",
       "</style>\n",
       "<table border=\"1\" class=\"dataframe\">\n",
       "  <thead>\n",
       "    <tr style=\"text-align: right;\">\n",
       "      <th></th>\n",
       "      <th>ID</th>\n",
       "      <th>Name</th>\n",
       "    </tr>\n",
       "  </thead>\n",
       "  <tbody>\n",
       "    <tr>\n",
       "      <th>0</th>\n",
       "      <td>25</td>\n",
       "      <td>Ronaldo</td>\n",
       "    </tr>\n",
       "    <tr>\n",
       "      <th>1</th>\n",
       "      <td>30</td>\n",
       "      <td>Messi</td>\n",
       "    </tr>\n",
       "    <tr>\n",
       "      <th>2</th>\n",
       "      <td>35</td>\n",
       "      <td>Pele</td>\n",
       "    </tr>\n",
       "    <tr>\n",
       "      <th>3</th>\n",
       "      <td>40</td>\n",
       "      <td>Maredona</td>\n",
       "    </tr>\n",
       "    <tr>\n",
       "      <th>4</th>\n",
       "      <td>45</td>\n",
       "      <td>Harry</td>\n",
       "    </tr>\n",
       "    <tr>\n",
       "      <th>5</th>\n",
       "      <td>50</td>\n",
       "      <td>Pogba</td>\n",
       "    </tr>\n",
       "    <tr>\n",
       "      <th>6</th>\n",
       "      <td>55</td>\n",
       "      <td>Chhetri</td>\n",
       "    </tr>\n",
       "  </tbody>\n",
       "</table>\n",
       "</div>"
      ],
      "text/plain": [
       "   ID      Name\n",
       "0  25   Ronaldo\n",
       "1  30     Messi\n",
       "2  35      Pele\n",
       "3  40  Maredona\n",
       "4  45     Harry\n",
       "5  50     Pogba\n",
       "6  55   Chhetri"
      ]
     },
     "execution_count": 22,
     "metadata": {},
     "output_type": "execute_result"
    }
   ],
   "source": [
    "player_id_name = pd.DataFrame({\n",
    "    'ID':[25,30,35,40,45,50 , 55],\n",
    "    'Name':['Ronaldo' , 'Messi' , 'Pele' , 'Maredona' ,'Harry' , 'Pogba' , 'Chhetri'],\n",
    "    \n",
    "})\n",
    "\n",
    "print(\"Player Id and Name \\n ================\")\n",
    "player_id_name"
   ]
  },
  {
   "cell_type": "code",
   "execution_count": 23,
   "id": "eca1a7ad",
   "metadata": {},
   "outputs": [],
   "source": [
    "#merge will accept only two data frame"
   ]
  },
  {
   "cell_type": "code",
   "execution_count": 32,
   "id": "eb871323",
   "metadata": {},
   "outputs": [
    {
     "name": "stdout",
     "output_type": "stream",
     "text": [
      "player details \n",
      "===============\n",
      "   ID  Age    Country\n",
      "0  25   36   Portugal\n",
      "1  30   34  Argentina\n",
      "2  45   28    England\n",
      "3  50   28     France\n",
      "4  55   37      India\n"
     ]
    }
   ],
   "source": [
    "player_detail = pd.DataFrame({\n",
    "    'ID':[25,30,45,50,55],\n",
    "    'Age':[36,34,28,28,37],\n",
    "    'Country':['Portugal' , 'Argentina' , 'England' , 'France' , 'India' ]\n",
    "})\n",
    "\n",
    "print('player details \\n===============')\n",
    "\n",
    "print(player_detail)"
   ]
  },
  {
   "cell_type": "code",
   "execution_count": 33,
   "id": "722be5ef",
   "metadata": {},
   "outputs": [
    {
     "name": "stdout",
     "output_type": "stream",
     "text": [
      "Dataset will be merged based on the matching id's  ============\n"
     ]
    },
    {
     "data": {
      "text/html": [
       "<div>\n",
       "<style scoped>\n",
       "    .dataframe tbody tr th:only-of-type {\n",
       "        vertical-align: middle;\n",
       "    }\n",
       "\n",
       "    .dataframe tbody tr th {\n",
       "        vertical-align: top;\n",
       "    }\n",
       "\n",
       "    .dataframe thead th {\n",
       "        text-align: right;\n",
       "    }\n",
       "</style>\n",
       "<table border=\"1\" class=\"dataframe\">\n",
       "  <thead>\n",
       "    <tr style=\"text-align: right;\">\n",
       "      <th></th>\n",
       "      <th>ID</th>\n",
       "      <th>Name</th>\n",
       "      <th>Age</th>\n",
       "      <th>Country</th>\n",
       "    </tr>\n",
       "  </thead>\n",
       "  <tbody>\n",
       "    <tr>\n",
       "      <th>0</th>\n",
       "      <td>25</td>\n",
       "      <td>Ronaldo</td>\n",
       "      <td>36</td>\n",
       "      <td>Portugal</td>\n",
       "    </tr>\n",
       "    <tr>\n",
       "      <th>1</th>\n",
       "      <td>30</td>\n",
       "      <td>Messi</td>\n",
       "      <td>34</td>\n",
       "      <td>Argentina</td>\n",
       "    </tr>\n",
       "    <tr>\n",
       "      <th>2</th>\n",
       "      <td>45</td>\n",
       "      <td>Harry</td>\n",
       "      <td>28</td>\n",
       "      <td>England</td>\n",
       "    </tr>\n",
       "    <tr>\n",
       "      <th>3</th>\n",
       "      <td>50</td>\n",
       "      <td>Pogba</td>\n",
       "      <td>28</td>\n",
       "      <td>France</td>\n",
       "    </tr>\n",
       "    <tr>\n",
       "      <th>4</th>\n",
       "      <td>55</td>\n",
       "      <td>Chhetri</td>\n",
       "      <td>37</td>\n",
       "      <td>India</td>\n",
       "    </tr>\n",
       "  </tbody>\n",
       "</table>\n",
       "</div>"
      ],
      "text/plain": [
       "   ID     Name  Age    Country\n",
       "0  25  Ronaldo   36   Portugal\n",
       "1  30    Messi   34  Argentina\n",
       "2  45    Harry   28    England\n",
       "3  50    Pogba   28     France\n",
       "4  55  Chhetri   37      India"
      ]
     },
     "execution_count": 33,
     "metadata": {},
     "output_type": "execute_result"
    }
   ],
   "source": [
    "print(\"Dataset will be merged based on the matching id's  ============\")\n",
    "pd.merge(player_id_name, player_detail,on = 'ID')      #pd.df(df1 , df2 , on=based on)"
   ]
  },
  {
   "cell_type": "markdown",
   "id": "987cdf6d",
   "metadata": {},
   "source": [
    "# join"
   ]
  },
  {
   "cell_type": "code",
   "execution_count": 42,
   "id": "644541e3",
   "metadata": {},
   "outputs": [],
   "source": [
    "left = pd.DataFrame({'A':['A0' , 'A1' , 'A2'],\n",
    "                    'B':['B0' , 'B1' , 'B2']},\n",
    "                    index = ['k0' , 'k1' , 'k2'])\n",
    "\n",
    "\n",
    "right = pd.DataFrame({'C':['C0' , 'C1' , 'C2'],\n",
    "                     'D':['D0' , 'D1' , 'D2']},\n",
    "                    index = ['k0' , 'k2' , 'k3'])\n"
   ]
  },
  {
   "cell_type": "code",
   "execution_count": 43,
   "id": "a89aadc3",
   "metadata": {},
   "outputs": [
    {
     "data": {
      "text/html": [
       "<div>\n",
       "<style scoped>\n",
       "    .dataframe tbody tr th:only-of-type {\n",
       "        vertical-align: middle;\n",
       "    }\n",
       "\n",
       "    .dataframe tbody tr th {\n",
       "        vertical-align: top;\n",
       "    }\n",
       "\n",
       "    .dataframe thead th {\n",
       "        text-align: right;\n",
       "    }\n",
       "</style>\n",
       "<table border=\"1\" class=\"dataframe\">\n",
       "  <thead>\n",
       "    <tr style=\"text-align: right;\">\n",
       "      <th></th>\n",
       "      <th>A</th>\n",
       "      <th>B</th>\n",
       "    </tr>\n",
       "  </thead>\n",
       "  <tbody>\n",
       "    <tr>\n",
       "      <th>k0</th>\n",
       "      <td>A0</td>\n",
       "      <td>B0</td>\n",
       "    </tr>\n",
       "    <tr>\n",
       "      <th>k1</th>\n",
       "      <td>A1</td>\n",
       "      <td>B1</td>\n",
       "    </tr>\n",
       "    <tr>\n",
       "      <th>k2</th>\n",
       "      <td>A2</td>\n",
       "      <td>B2</td>\n",
       "    </tr>\n",
       "  </tbody>\n",
       "</table>\n",
       "</div>"
      ],
      "text/plain": [
       "     A   B\n",
       "k0  A0  B0\n",
       "k1  A1  B1\n",
       "k2  A2  B2"
      ]
     },
     "execution_count": 43,
     "metadata": {},
     "output_type": "execute_result"
    }
   ],
   "source": [
    "left"
   ]
  },
  {
   "cell_type": "code",
   "execution_count": 44,
   "id": "3bbfeafd",
   "metadata": {},
   "outputs": [
    {
     "data": {
      "text/html": [
       "<div>\n",
       "<style scoped>\n",
       "    .dataframe tbody tr th:only-of-type {\n",
       "        vertical-align: middle;\n",
       "    }\n",
       "\n",
       "    .dataframe tbody tr th {\n",
       "        vertical-align: top;\n",
       "    }\n",
       "\n",
       "    .dataframe thead th {\n",
       "        text-align: right;\n",
       "    }\n",
       "</style>\n",
       "<table border=\"1\" class=\"dataframe\">\n",
       "  <thead>\n",
       "    <tr style=\"text-align: right;\">\n",
       "      <th></th>\n",
       "      <th>C</th>\n",
       "      <th>D</th>\n",
       "    </tr>\n",
       "  </thead>\n",
       "  <tbody>\n",
       "    <tr>\n",
       "      <th>k0</th>\n",
       "      <td>C0</td>\n",
       "      <td>D0</td>\n",
       "    </tr>\n",
       "    <tr>\n",
       "      <th>k2</th>\n",
       "      <td>C1</td>\n",
       "      <td>D1</td>\n",
       "    </tr>\n",
       "    <tr>\n",
       "      <th>k3</th>\n",
       "      <td>C2</td>\n",
       "      <td>D2</td>\n",
       "    </tr>\n",
       "  </tbody>\n",
       "</table>\n",
       "</div>"
      ],
      "text/plain": [
       "     C   D\n",
       "k0  C0  D0\n",
       "k2  C1  D1\n",
       "k3  C2  D2"
      ]
     },
     "execution_count": 44,
     "metadata": {},
     "output_type": "execute_result"
    }
   ],
   "source": [
    "right"
   ]
  },
  {
   "cell_type": "code",
   "execution_count": 45,
   "id": "da5fd1cb",
   "metadata": {},
   "outputs": [
    {
     "data": {
      "text/html": [
       "<div>\n",
       "<style scoped>\n",
       "    .dataframe tbody tr th:only-of-type {\n",
       "        vertical-align: middle;\n",
       "    }\n",
       "\n",
       "    .dataframe tbody tr th {\n",
       "        vertical-align: top;\n",
       "    }\n",
       "\n",
       "    .dataframe thead th {\n",
       "        text-align: right;\n",
       "    }\n",
       "</style>\n",
       "<table border=\"1\" class=\"dataframe\">\n",
       "  <thead>\n",
       "    <tr style=\"text-align: right;\">\n",
       "      <th></th>\n",
       "      <th>A</th>\n",
       "      <th>B</th>\n",
       "      <th>C</th>\n",
       "      <th>D</th>\n",
       "    </tr>\n",
       "  </thead>\n",
       "  <tbody>\n",
       "    <tr>\n",
       "      <th>k0</th>\n",
       "      <td>A0</td>\n",
       "      <td>B0</td>\n",
       "      <td>C0</td>\n",
       "      <td>D0</td>\n",
       "    </tr>\n",
       "    <tr>\n",
       "      <th>k1</th>\n",
       "      <td>A1</td>\n",
       "      <td>B1</td>\n",
       "      <td>NaN</td>\n",
       "      <td>NaN</td>\n",
       "    </tr>\n",
       "    <tr>\n",
       "      <th>k2</th>\n",
       "      <td>A2</td>\n",
       "      <td>B2</td>\n",
       "      <td>C1</td>\n",
       "      <td>D1</td>\n",
       "    </tr>\n",
       "  </tbody>\n",
       "</table>\n",
       "</div>"
      ],
      "text/plain": [
       "     A   B    C    D\n",
       "k0  A0  B0   C0   D0\n",
       "k1  A1  B1  NaN  NaN\n",
       "k2  A2  B2   C1   D1"
      ]
     },
     "execution_count": 45,
     "metadata": {},
     "output_type": "execute_result"
    }
   ],
   "source": [
    "left.join(right)  #it will join on the basis of index.\n",
    "                  #only the match index will be joined"
   ]
  },
  {
   "cell_type": "code",
   "execution_count": 46,
   "id": "d7a28232",
   "metadata": {},
   "outputs": [
    {
     "data": {
      "text/html": [
       "<div>\n",
       "<style scoped>\n",
       "    .dataframe tbody tr th:only-of-type {\n",
       "        vertical-align: middle;\n",
       "    }\n",
       "\n",
       "    .dataframe tbody tr th {\n",
       "        vertical-align: top;\n",
       "    }\n",
       "\n",
       "    .dataframe thead th {\n",
       "        text-align: right;\n",
       "    }\n",
       "</style>\n",
       "<table border=\"1\" class=\"dataframe\">\n",
       "  <thead>\n",
       "    <tr style=\"text-align: right;\">\n",
       "      <th></th>\n",
       "      <th>A</th>\n",
       "      <th>B</th>\n",
       "      <th>C</th>\n",
       "      <th>D</th>\n",
       "    </tr>\n",
       "  </thead>\n",
       "  <tbody>\n",
       "    <tr>\n",
       "      <th>k0</th>\n",
       "      <td>A0</td>\n",
       "      <td>B0</td>\n",
       "      <td>C0</td>\n",
       "      <td>D0</td>\n",
       "    </tr>\n",
       "    <tr>\n",
       "      <th>k1</th>\n",
       "      <td>A1</td>\n",
       "      <td>B1</td>\n",
       "      <td>NaN</td>\n",
       "      <td>NaN</td>\n",
       "    </tr>\n",
       "    <tr>\n",
       "      <th>k2</th>\n",
       "      <td>A2</td>\n",
       "      <td>B2</td>\n",
       "      <td>C1</td>\n",
       "      <td>D1</td>\n",
       "    </tr>\n",
       "    <tr>\n",
       "      <th>k3</th>\n",
       "      <td>NaN</td>\n",
       "      <td>NaN</td>\n",
       "      <td>C2</td>\n",
       "      <td>D2</td>\n",
       "    </tr>\n",
       "  </tbody>\n",
       "</table>\n",
       "</div>"
      ],
      "text/plain": [
       "      A    B    C    D\n",
       "k0   A0   B0   C0   D0\n",
       "k1   A1   B1  NaN  NaN\n",
       "k2   A2   B2   C1   D1\n",
       "k3  NaN  NaN   C2   D2"
      ]
     },
     "execution_count": 46,
     "metadata": {},
     "output_type": "execute_result"
    }
   ],
   "source": [
    "left.join(right , how = 'outer')  #outer means keep everything from both left and right"
   ]
  },
  {
   "cell_type": "markdown",
   "id": "c956d2c3",
   "metadata": {},
   "source": [
    "# apply function"
   ]
  },
  {
   "cell_type": "code",
   "execution_count": 47,
   "id": "96cc7b8a",
   "metadata": {},
   "outputs": [
    {
     "data": {
      "text/html": [
       "<div>\n",
       "<style scoped>\n",
       "    .dataframe tbody tr th:only-of-type {\n",
       "        vertical-align: middle;\n",
       "    }\n",
       "\n",
       "    .dataframe tbody tr th {\n",
       "        vertical-align: top;\n",
       "    }\n",
       "\n",
       "    .dataframe thead th {\n",
       "        text-align: right;\n",
       "    }\n",
       "</style>\n",
       "<table border=\"1\" class=\"dataframe\">\n",
       "  <thead>\n",
       "    <tr style=\"text-align: right;\">\n",
       "      <th></th>\n",
       "      <th>Dept</th>\n",
       "      <th>Emp_Name</th>\n",
       "      <th>Salary</th>\n",
       "    </tr>\n",
       "  </thead>\n",
       "  <tbody>\n",
       "    <tr>\n",
       "      <th>0</th>\n",
       "      <td>1</td>\n",
       "      <td>Rajesh</td>\n",
       "      <td>4566</td>\n",
       "    </tr>\n",
       "    <tr>\n",
       "      <th>1</th>\n",
       "      <td>2</td>\n",
       "      <td>shankar</td>\n",
       "      <td>4567</td>\n",
       "    </tr>\n",
       "    <tr>\n",
       "      <th>2</th>\n",
       "      <td>3</td>\n",
       "      <td>sindhu</td>\n",
       "      <td>3421</td>\n",
       "    </tr>\n",
       "    <tr>\n",
       "      <th>3</th>\n",
       "      <td>4</td>\n",
       "      <td>salman</td>\n",
       "      <td>6743</td>\n",
       "    </tr>\n",
       "    <tr>\n",
       "      <th>4</th>\n",
       "      <td>5</td>\n",
       "      <td>srk</td>\n",
       "      <td>5674</td>\n",
       "    </tr>\n",
       "    <tr>\n",
       "      <th>5</th>\n",
       "      <td>6</td>\n",
       "      <td>uday</td>\n",
       "      <td>2389</td>\n",
       "    </tr>\n",
       "    <tr>\n",
       "      <th>6</th>\n",
       "      <td>7</td>\n",
       "      <td>yash</td>\n",
       "      <td>6543</td>\n",
       "    </tr>\n",
       "    <tr>\n",
       "      <th>7</th>\n",
       "      <td>8</td>\n",
       "      <td>ram</td>\n",
       "      <td>8765</td>\n",
       "    </tr>\n",
       "    <tr>\n",
       "      <th>8</th>\n",
       "      <td>9</td>\n",
       "      <td>sham</td>\n",
       "      <td>1298</td>\n",
       "    </tr>\n",
       "    <tr>\n",
       "      <th>9</th>\n",
       "      <td>10</td>\n",
       "      <td>amy</td>\n",
       "      <td>9872</td>\n",
       "    </tr>\n",
       "  </tbody>\n",
       "</table>\n",
       "</div>"
      ],
      "text/plain": [
       "   Dept Emp_Name  Salary\n",
       "0     1   Rajesh    4566\n",
       "1     2  shankar    4567\n",
       "2     3   sindhu    3421\n",
       "3     4   salman    6743\n",
       "4     5      srk    5674\n",
       "5     6     uday    2389\n",
       "6     7     yash    6543\n",
       "7     8      ram    8765\n",
       "8     9     sham    1298\n",
       "9    10      amy    9872"
      ]
     },
     "execution_count": 47,
     "metadata": {},
     "output_type": "execute_result"
    }
   ],
   "source": [
    "df = pd.DataFrame({'Dept':[1,2,3,4,5,6,7,8,9,10],\n",
    "                  'Emp_Name':['Rajesh' , 'shankar' , 'sindhu' , 'salman' , 'srk' , 'uday' , 'yash' , 'ram' , 'sham' , 'amy'],\n",
    "                 'Salary':[4566,4567,3421,6743,5674,2389,6543,8765,1298,9872] })\n",
    "df"
   ]
  },
  {
   "cell_type": "code",
   "execution_count": 48,
   "id": "426393db",
   "metadata": {},
   "outputs": [],
   "source": [
    "#define a function\n",
    "def salary_hike(x):\n",
    "    if(x > 3000):\n",
    "        return np.ceil(x + (x* .30))\n",
    "    else:\n",
    "        return np.ceil( x * 1.5)"
   ]
  },
  {
   "cell_type": "code",
   "execution_count": 50,
   "id": "f932fa2c",
   "metadata": {},
   "outputs": [
    {
     "name": "stdout",
     "output_type": "stream",
     "text": [
      "   Dept Emp_Name  Salary  New salary\n",
      "0     1   Rajesh    4566      5936.0\n",
      "1     2  shankar    4567      5938.0\n",
      "2     3   sindhu    3421      4448.0\n",
      "3     4   salman    6743      8766.0\n",
      "4     5      srk    5674      7377.0\n",
      "5     6     uday    2389      3584.0\n",
      "6     7     yash    6543      8506.0\n",
      "7     8      ram    8765     11395.0\n",
      "8     9     sham    1298      1947.0\n",
      "9    10      amy    9872     12834.0\n"
     ]
    }
   ],
   "source": [
    "df['New salary'] = df['Salary'].apply(salary_hike)   #ceil will make the number round figure\n",
    "print(df)  #here we are adding new column new salary and applying function on it"
   ]
  },
  {
   "cell_type": "code",
   "execution_count": 52,
   "id": "ba19f8fb",
   "metadata": {},
   "outputs": [
    {
     "data": {
      "text/html": [
       "<div>\n",
       "<style scoped>\n",
       "    .dataframe tbody tr th:only-of-type {\n",
       "        vertical-align: middle;\n",
       "    }\n",
       "\n",
       "    .dataframe tbody tr th {\n",
       "        vertical-align: top;\n",
       "    }\n",
       "\n",
       "    .dataframe thead th {\n",
       "        text-align: right;\n",
       "    }\n",
       "</style>\n",
       "<table border=\"1\" class=\"dataframe\">\n",
       "  <thead>\n",
       "    <tr style=\"text-align: right;\">\n",
       "      <th></th>\n",
       "      <th>Dept</th>\n",
       "      <th>Emp_Name</th>\n",
       "      <th>Salary</th>\n",
       "      <th>New salary</th>\n",
       "      <th>Increased salary</th>\n",
       "    </tr>\n",
       "  </thead>\n",
       "  <tbody>\n",
       "    <tr>\n",
       "      <th>0</th>\n",
       "      <td>1</td>\n",
       "      <td>Rajesh</td>\n",
       "      <td>4566</td>\n",
       "      <td>5936.0</td>\n",
       "      <td>1370.0</td>\n",
       "    </tr>\n",
       "    <tr>\n",
       "      <th>1</th>\n",
       "      <td>2</td>\n",
       "      <td>shankar</td>\n",
       "      <td>4567</td>\n",
       "      <td>5938.0</td>\n",
       "      <td>1371.0</td>\n",
       "    </tr>\n",
       "    <tr>\n",
       "      <th>2</th>\n",
       "      <td>3</td>\n",
       "      <td>sindhu</td>\n",
       "      <td>3421</td>\n",
       "      <td>4448.0</td>\n",
       "      <td>1027.0</td>\n",
       "    </tr>\n",
       "    <tr>\n",
       "      <th>3</th>\n",
       "      <td>4</td>\n",
       "      <td>salman</td>\n",
       "      <td>6743</td>\n",
       "      <td>8766.0</td>\n",
       "      <td>2023.0</td>\n",
       "    </tr>\n",
       "    <tr>\n",
       "      <th>4</th>\n",
       "      <td>5</td>\n",
       "      <td>srk</td>\n",
       "      <td>5674</td>\n",
       "      <td>7377.0</td>\n",
       "      <td>1703.0</td>\n",
       "    </tr>\n",
       "    <tr>\n",
       "      <th>5</th>\n",
       "      <td>6</td>\n",
       "      <td>uday</td>\n",
       "      <td>2389</td>\n",
       "      <td>3584.0</td>\n",
       "      <td>1195.0</td>\n",
       "    </tr>\n",
       "    <tr>\n",
       "      <th>6</th>\n",
       "      <td>7</td>\n",
       "      <td>yash</td>\n",
       "      <td>6543</td>\n",
       "      <td>8506.0</td>\n",
       "      <td>1963.0</td>\n",
       "    </tr>\n",
       "    <tr>\n",
       "      <th>7</th>\n",
       "      <td>8</td>\n",
       "      <td>ram</td>\n",
       "      <td>8765</td>\n",
       "      <td>11395.0</td>\n",
       "      <td>2630.0</td>\n",
       "    </tr>\n",
       "    <tr>\n",
       "      <th>8</th>\n",
       "      <td>9</td>\n",
       "      <td>sham</td>\n",
       "      <td>1298</td>\n",
       "      <td>1947.0</td>\n",
       "      <td>649.0</td>\n",
       "    </tr>\n",
       "    <tr>\n",
       "      <th>9</th>\n",
       "      <td>10</td>\n",
       "      <td>amy</td>\n",
       "      <td>9872</td>\n",
       "      <td>12834.0</td>\n",
       "      <td>2962.0</td>\n",
       "    </tr>\n",
       "  </tbody>\n",
       "</table>\n",
       "</div>"
      ],
      "text/plain": [
       "   Dept Emp_Name  Salary  New salary  Increased salary\n",
       "0     1   Rajesh    4566      5936.0            1370.0\n",
       "1     2  shankar    4567      5938.0            1371.0\n",
       "2     3   sindhu    3421      4448.0            1027.0\n",
       "3     4   salman    6743      8766.0            2023.0\n",
       "4     5      srk    5674      7377.0            1703.0\n",
       "5     6     uday    2389      3584.0            1195.0\n",
       "6     7     yash    6543      8506.0            1963.0\n",
       "7     8      ram    8765     11395.0            2630.0\n",
       "8     9     sham    1298      1947.0             649.0\n",
       "9    10      amy    9872     12834.0            2962.0"
      ]
     },
     "execution_count": 52,
     "metadata": {},
     "output_type": "execute_result"
    }
   ],
   "source": [
    "#increased salary \n",
    "df['Increased salary'] = df['New salary'] - df['Salary']\n",
    "df"
   ]
  },
  {
   "cell_type": "code",
   "execution_count": 53,
   "id": "c74e91cc",
   "metadata": {},
   "outputs": [
    {
     "name": "stdout",
     "output_type": "stream",
     "text": [
      "\n",
      "sum of the column New salary is : 70731.0\n"
     ]
    }
   ],
   "source": [
    "print(\"\\nsum of the column New salary is :\" , df['New salary'].sum())"
   ]
  },
  {
   "cell_type": "code",
   "execution_count": 57,
   "id": "5721563a",
   "metadata": {},
   "outputs": [
    {
     "name": "stdout",
     "output_type": "stream",
     "text": [
      "min and max of the column new salary are: 1947.0 and 12834.0\n"
     ]
    }
   ],
   "source": [
    "print(\"min and max of the column new salary are:\" , df['New salary'].min() , \"and\" ,  df['New salary'].max())"
   ]
  },
  {
   "cell_type": "code",
   "execution_count": 58,
   "id": "e6a77a06",
   "metadata": {},
   "outputs": [],
   "source": [
    "# deletion sorting and list of column and rows name "
   ]
  },
  {
   "cell_type": "code",
   "execution_count": 59,
   "id": "e02fcf15",
   "metadata": {},
   "outputs": [
    {
     "name": "stdout",
     "output_type": "stream",
     "text": [
      "\n",
      "name of columns\n",
      " --------------------\n",
      "Index(['Dept', 'Emp_Name', 'Salary', 'New salary', 'Increased salary'], dtype='object')\n"
     ]
    }
   ],
   "source": [
    "print(\"\\nname of columns\\n\" , '-'*20)\n",
    "\n",
    "print(df.columns)"
   ]
  },
  {
   "cell_type": "code",
   "execution_count": 61,
   "id": "cf2b9c83",
   "metadata": {},
   "outputs": [
    {
     "name": "stdout",
     "output_type": "stream",
     "text": [
      "\n",
      "column name in the list of strings for later manipulation:\n",
      " ['Dept', 'Emp_Name', 'Salary', 'New salary', 'Increased salary']\n"
     ]
    }
   ],
   "source": [
    "l = list(df.columns)  #here we stored column names in the variables\n",
    "print(\"\\ncolumn name in the list of strings for later manipulation:\\n\" , l)"
   ]
  },
  {
   "cell_type": "code",
   "execution_count": 62,
   "id": "99b67ea3",
   "metadata": {},
   "outputs": [
    {
     "name": "stdout",
     "output_type": "stream",
     "text": [
      "\n",
      "deleting column \n",
      " ------------------------------\n"
     ]
    },
    {
     "data": {
      "text/html": [
       "<div>\n",
       "<style scoped>\n",
       "    .dataframe tbody tr th:only-of-type {\n",
       "        vertical-align: middle;\n",
       "    }\n",
       "\n",
       "    .dataframe tbody tr th {\n",
       "        vertical-align: top;\n",
       "    }\n",
       "\n",
       "    .dataframe thead th {\n",
       "        text-align: right;\n",
       "    }\n",
       "</style>\n",
       "<table border=\"1\" class=\"dataframe\">\n",
       "  <thead>\n",
       "    <tr style=\"text-align: right;\">\n",
       "      <th></th>\n",
       "      <th>Dept</th>\n",
       "      <th>Emp_Name</th>\n",
       "      <th>New salary</th>\n",
       "      <th>Increased salary</th>\n",
       "    </tr>\n",
       "  </thead>\n",
       "  <tbody>\n",
       "    <tr>\n",
       "      <th>0</th>\n",
       "      <td>1</td>\n",
       "      <td>Rajesh</td>\n",
       "      <td>5936.0</td>\n",
       "      <td>1370.0</td>\n",
       "    </tr>\n",
       "    <tr>\n",
       "      <th>1</th>\n",
       "      <td>2</td>\n",
       "      <td>shankar</td>\n",
       "      <td>5938.0</td>\n",
       "      <td>1371.0</td>\n",
       "    </tr>\n",
       "    <tr>\n",
       "      <th>2</th>\n",
       "      <td>3</td>\n",
       "      <td>sindhu</td>\n",
       "      <td>4448.0</td>\n",
       "      <td>1027.0</td>\n",
       "    </tr>\n",
       "    <tr>\n",
       "      <th>3</th>\n",
       "      <td>4</td>\n",
       "      <td>salman</td>\n",
       "      <td>8766.0</td>\n",
       "      <td>2023.0</td>\n",
       "    </tr>\n",
       "    <tr>\n",
       "      <th>4</th>\n",
       "      <td>5</td>\n",
       "      <td>srk</td>\n",
       "      <td>7377.0</td>\n",
       "      <td>1703.0</td>\n",
       "    </tr>\n",
       "    <tr>\n",
       "      <th>5</th>\n",
       "      <td>6</td>\n",
       "      <td>uday</td>\n",
       "      <td>3584.0</td>\n",
       "      <td>1195.0</td>\n",
       "    </tr>\n",
       "    <tr>\n",
       "      <th>6</th>\n",
       "      <td>7</td>\n",
       "      <td>yash</td>\n",
       "      <td>8506.0</td>\n",
       "      <td>1963.0</td>\n",
       "    </tr>\n",
       "    <tr>\n",
       "      <th>7</th>\n",
       "      <td>8</td>\n",
       "      <td>ram</td>\n",
       "      <td>11395.0</td>\n",
       "      <td>2630.0</td>\n",
       "    </tr>\n",
       "    <tr>\n",
       "      <th>8</th>\n",
       "      <td>9</td>\n",
       "      <td>sham</td>\n",
       "      <td>1947.0</td>\n",
       "      <td>649.0</td>\n",
       "    </tr>\n",
       "    <tr>\n",
       "      <th>9</th>\n",
       "      <td>10</td>\n",
       "      <td>amy</td>\n",
       "      <td>12834.0</td>\n",
       "      <td>2962.0</td>\n",
       "    </tr>\n",
       "  </tbody>\n",
       "</table>\n",
       "</div>"
      ],
      "text/plain": [
       "   Dept Emp_Name  New salary  Increased salary\n",
       "0     1   Rajesh      5936.0            1370.0\n",
       "1     2  shankar      5938.0            1371.0\n",
       "2     3   sindhu      4448.0            1027.0\n",
       "3     4   salman      8766.0            2023.0\n",
       "4     5      srk      7377.0            1703.0\n",
       "5     6     uday      3584.0            1195.0\n",
       "6     7     yash      8506.0            1963.0\n",
       "7     8      ram     11395.0            2630.0\n",
       "8     9     sham      1947.0             649.0\n",
       "9    10      amy     12834.0            2962.0"
      ]
     },
     "execution_count": 62,
     "metadata": {},
     "output_type": "execute_result"
    }
   ],
   "source": [
    "#delete column \n",
    "print(\"\\ndeleting column \\n\" , '-'*30)\n",
    "df.drop('Salary'  , axis = 1 , inplace= True) #axis = 1 column wise axis = 0 row wise \n",
    "df   #it is soft delete "
   ]
  },
  {
   "cell_type": "code",
   "execution_count": 64,
   "id": "4c007407",
   "metadata": {},
   "outputs": [
    {
     "name": "stdout",
     "output_type": "stream",
     "text": [
      "\n",
      "deleting column by 'del' command \n",
      " -------------------------\n"
     ]
    },
    {
     "data": {
      "text/html": [
       "<div>\n",
       "<style scoped>\n",
       "    .dataframe tbody tr th:only-of-type {\n",
       "        vertical-align: middle;\n",
       "    }\n",
       "\n",
       "    .dataframe tbody tr th {\n",
       "        vertical-align: top;\n",
       "    }\n",
       "\n",
       "    .dataframe thead th {\n",
       "        text-align: right;\n",
       "    }\n",
       "</style>\n",
       "<table border=\"1\" class=\"dataframe\">\n",
       "  <thead>\n",
       "    <tr style=\"text-align: right;\">\n",
       "      <th></th>\n",
       "      <th>Emp_Name</th>\n",
       "      <th>New salary</th>\n",
       "      <th>Increased salary</th>\n",
       "    </tr>\n",
       "  </thead>\n",
       "  <tbody>\n",
       "    <tr>\n",
       "      <th>0</th>\n",
       "      <td>Rajesh</td>\n",
       "      <td>5936.0</td>\n",
       "      <td>1370.0</td>\n",
       "    </tr>\n",
       "    <tr>\n",
       "      <th>1</th>\n",
       "      <td>shankar</td>\n",
       "      <td>5938.0</td>\n",
       "      <td>1371.0</td>\n",
       "    </tr>\n",
       "    <tr>\n",
       "      <th>2</th>\n",
       "      <td>sindhu</td>\n",
       "      <td>4448.0</td>\n",
       "      <td>1027.0</td>\n",
       "    </tr>\n",
       "    <tr>\n",
       "      <th>3</th>\n",
       "      <td>salman</td>\n",
       "      <td>8766.0</td>\n",
       "      <td>2023.0</td>\n",
       "    </tr>\n",
       "    <tr>\n",
       "      <th>4</th>\n",
       "      <td>srk</td>\n",
       "      <td>7377.0</td>\n",
       "      <td>1703.0</td>\n",
       "    </tr>\n",
       "    <tr>\n",
       "      <th>5</th>\n",
       "      <td>uday</td>\n",
       "      <td>3584.0</td>\n",
       "      <td>1195.0</td>\n",
       "    </tr>\n",
       "    <tr>\n",
       "      <th>6</th>\n",
       "      <td>yash</td>\n",
       "      <td>8506.0</td>\n",
       "      <td>1963.0</td>\n",
       "    </tr>\n",
       "    <tr>\n",
       "      <th>7</th>\n",
       "      <td>ram</td>\n",
       "      <td>11395.0</td>\n",
       "      <td>2630.0</td>\n",
       "    </tr>\n",
       "    <tr>\n",
       "      <th>8</th>\n",
       "      <td>sham</td>\n",
       "      <td>1947.0</td>\n",
       "      <td>649.0</td>\n",
       "    </tr>\n",
       "    <tr>\n",
       "      <th>9</th>\n",
       "      <td>amy</td>\n",
       "      <td>12834.0</td>\n",
       "      <td>2962.0</td>\n",
       "    </tr>\n",
       "  </tbody>\n",
       "</table>\n",
       "</div>"
      ],
      "text/plain": [
       "  Emp_Name  New salary  Increased salary\n",
       "0   Rajesh      5936.0            1370.0\n",
       "1  shankar      5938.0            1371.0\n",
       "2   sindhu      4448.0            1027.0\n",
       "3   salman      8766.0            2023.0\n",
       "4      srk      7377.0            1703.0\n",
       "5     uday      3584.0            1195.0\n",
       "6     yash      8506.0            1963.0\n",
       "7      ram     11395.0            2630.0\n",
       "8     sham      1947.0             649.0\n",
       "9      amy     12834.0            2962.0"
      ]
     },
     "execution_count": 64,
     "metadata": {},
     "output_type": "execute_result"
    }
   ],
   "source": [
    "#you can delete by command \n",
    "#it is harsh delete \n",
    "print(\"\\ndeleting column by 'del' command \\n\" , '-' * 25)\n",
    "del df['Dept']\n",
    "df   # not generally prefered this method "
   ]
  },
  {
   "cell_type": "code",
   "execution_count": 65,
   "id": "dfbef076",
   "metadata": {},
   "outputs": [
    {
     "data": {
      "text/html": [
       "<div>\n",
       "<style scoped>\n",
       "    .dataframe tbody tr th:only-of-type {\n",
       "        vertical-align: middle;\n",
       "    }\n",
       "\n",
       "    .dataframe tbody tr th {\n",
       "        vertical-align: top;\n",
       "    }\n",
       "\n",
       "    .dataframe thead th {\n",
       "        text-align: right;\n",
       "    }\n",
       "</style>\n",
       "<table border=\"1\" class=\"dataframe\">\n",
       "  <thead>\n",
       "    <tr style=\"text-align: right;\">\n",
       "      <th></th>\n",
       "      <th>Emp_Name</th>\n",
       "      <th>New salary</th>\n",
       "      <th>Increased salary</th>\n",
       "    </tr>\n",
       "  </thead>\n",
       "  <tbody>\n",
       "    <tr>\n",
       "      <th>9</th>\n",
       "      <td>amy</td>\n",
       "      <td>12834.0</td>\n",
       "      <td>2962.0</td>\n",
       "    </tr>\n",
       "    <tr>\n",
       "      <th>7</th>\n",
       "      <td>ram</td>\n",
       "      <td>11395.0</td>\n",
       "      <td>2630.0</td>\n",
       "    </tr>\n",
       "    <tr>\n",
       "      <th>3</th>\n",
       "      <td>salman</td>\n",
       "      <td>8766.0</td>\n",
       "      <td>2023.0</td>\n",
       "    </tr>\n",
       "    <tr>\n",
       "      <th>6</th>\n",
       "      <td>yash</td>\n",
       "      <td>8506.0</td>\n",
       "      <td>1963.0</td>\n",
       "    </tr>\n",
       "    <tr>\n",
       "      <th>4</th>\n",
       "      <td>srk</td>\n",
       "      <td>7377.0</td>\n",
       "      <td>1703.0</td>\n",
       "    </tr>\n",
       "    <tr>\n",
       "      <th>1</th>\n",
       "      <td>shankar</td>\n",
       "      <td>5938.0</td>\n",
       "      <td>1371.0</td>\n",
       "    </tr>\n",
       "    <tr>\n",
       "      <th>0</th>\n",
       "      <td>Rajesh</td>\n",
       "      <td>5936.0</td>\n",
       "      <td>1370.0</td>\n",
       "    </tr>\n",
       "    <tr>\n",
       "      <th>2</th>\n",
       "      <td>sindhu</td>\n",
       "      <td>4448.0</td>\n",
       "      <td>1027.0</td>\n",
       "    </tr>\n",
       "    <tr>\n",
       "      <th>5</th>\n",
       "      <td>uday</td>\n",
       "      <td>3584.0</td>\n",
       "      <td>1195.0</td>\n",
       "    </tr>\n",
       "    <tr>\n",
       "      <th>8</th>\n",
       "      <td>sham</td>\n",
       "      <td>1947.0</td>\n",
       "      <td>649.0</td>\n",
       "    </tr>\n",
       "  </tbody>\n",
       "</table>\n",
       "</div>"
      ],
      "text/plain": [
       "  Emp_Name  New salary  Increased salary\n",
       "9      amy     12834.0            2962.0\n",
       "7      ram     11395.0            2630.0\n",
       "3   salman      8766.0            2023.0\n",
       "6     yash      8506.0            1963.0\n",
       "4      srk      7377.0            1703.0\n",
       "1  shankar      5938.0            1371.0\n",
       "0   Rajesh      5936.0            1370.0\n",
       "2   sindhu      4448.0            1027.0\n",
       "5     uday      3584.0            1195.0\n",
       "8     sham      1947.0             649.0"
      ]
     },
     "execution_count": 65,
     "metadata": {},
     "output_type": "execute_result"
    }
   ],
   "source": [
    "df.sort_values(by = 'New salary' , ascending = False ) #ascending by default so to descend asscending = false "
   ]
  },
  {
   "cell_type": "code",
   "execution_count": 66,
   "id": "eef684b5",
   "metadata": {},
   "outputs": [],
   "source": [
    "#how to read and load a file into data frame "
   ]
  },
  {
   "cell_type": "code",
   "execution_count": 67,
   "id": "841b8272",
   "metadata": {},
   "outputs": [],
   "source": [
    "import pandas as pd "
   ]
  },
  {
   "cell_type": "markdown",
   "id": "c7c9d489",
   "metadata": {},
   "source": [
    "# load.csv file "
   ]
  },
  {
   "cell_type": "markdown",
   "id": "ae98b481",
   "metadata": {},
   "source": [
    "all the files an be find im the below link"
   ]
  },
  {
   "cell_type": "code",
   "execution_count": null,
   "id": "3b641fca",
   "metadata": {},
   "outputs": [],
   "source": [
    "# https://"
   ]
  }
 ],
 "metadata": {
  "kernelspec": {
   "display_name": "Python 3 (ipykernel)",
   "language": "python",
   "name": "python3"
  },
  "language_info": {
   "codemirror_mode": {
    "name": "ipython",
    "version": 3
   },
   "file_extension": ".py",
   "mimetype": "text/x-python",
   "name": "python",
   "nbconvert_exporter": "python",
   "pygments_lexer": "ipython3",
   "version": "3.9.13"
  }
 },
 "nbformat": 4,
 "nbformat_minor": 5
}
